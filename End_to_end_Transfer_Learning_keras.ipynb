{
  "cells": [
    {
      "cell_type": "markdown",
      "metadata": {
        "id": "view-in-github",
        "colab_type": "text"
      },
      "source": [
        "<a href=\"https://colab.research.google.com/github/23Aditya/TransferLearning-in-Keras/blob/main/End_to_end_Transfer_Learning_keras.ipynb\" target=\"_parent\"><img src=\"https://colab.research.google.com/assets/colab-badge.svg\" alt=\"Open In Colab\"/></a>"
      ]
    },
    {
      "cell_type": "code",
      "execution_count": null,
      "metadata": {
        "id": "JrONGZiQo4qC"
      },
      "outputs": [],
      "source": [
        "from keras.applications import vgg16\n",
        "from keras.preprocessing.image import ImageDataGenerator\n",
        "from keras.layers import Dense,Flatten,BatchNormalization\n",
        "from keras.activations import relu\n",
        "from keras.initializers import glorot_uniform\n",
        "from keras.regularizers import l2\n",
        "from tensorflow.keras.optimizers import Adam\n",
        "from keras.models import Sequential"
      ]
    },
    {
      "cell_type": "code",
      "execution_count": null,
      "metadata": {
        "id": "dRq8zgZDo4qM"
      },
      "outputs": [],
      "source": [
        "data_gen = ImageDataGenerator()"
      ]
    },
    {
      "cell_type": "code",
      "execution_count": null,
      "metadata": {
        "id": "_tge0Phqo4qO"
      },
      "outputs": [],
      "source": [
        "import os"
      ]
    },
    {
      "cell_type": "code",
      "execution_count": null,
      "metadata": {
        "id": "XYbK6PwJo4qP",
        "outputId": "ab0b0425-6ff7-4180-cafc-0f3f91461b04"
      },
      "outputs": [
        {
          "name": "stdout",
          "output_type": "stream",
          "text": [
            "Found 62560 images belonging to 46 classes.\n"
          ]
        }
      ],
      "source": [
        "training_datagen = data_gen.flow_from_directory(directory=\"DevanagariHandwrittenCharacterDataset/Train\",\n",
        "                                                     target_size=(32,32),color_mode=\"rgb\",\n",
        "                                                     classes=os.listdir(\"DevanagariHandwrittenCharacterDataset/Train\"),\n",
        "                                                     batch_size=50)"
      ]
    },
    {
      "cell_type": "code",
      "execution_count": null,
      "metadata": {
        "id": "oHFchqGPo4qT",
        "outputId": "79aa5ebe-47ef-41e1-db86-965f694d7c4c"
      },
      "outputs": [
        {
          "name": "stdout",
          "output_type": "stream",
          "text": [
            "Found 15640 images belonging to 46 classes.\n"
          ]
        }
      ],
      "source": [
        "cv_datagen = data_gen.flow_from_directory(directory=\"DevanagariHandwrittenCharacterDataset/cv\",\n",
        "                                                    target_size=(32,32),color_mode=\"rgb\",\n",
        "                                                    classes=os.listdir(\"DevanagariHandwrittenCharacterDataset/cv\"),\n",
        "                                                    batch_size=15640)"
      ]
    },
    {
      "cell_type": "code",
      "execution_count": null,
      "metadata": {
        "id": "9rI4c5u2o4qV",
        "outputId": "cc9076d8-75fe-4ac6-d065-3d693a44c563"
      },
      "outputs": [
        {
          "name": "stdout",
          "output_type": "stream",
          "text": [
            "Found 13800 images belonging to 46 classes.\n"
          ]
        }
      ],
      "source": [
        "testing_datagen = data_gen.flow_from_directory(directory=\"DevanagariHandwrittenCharacterDataset/Test\",\n",
        "                                                   target_size=(32,32),color_mode=\"rgb\",\n",
        "                                                   classes=os.listdir(\"DevanagariHandwrittenCharacterDataset/Test\"),\n",
        "                                                   batch_size=13800)"
      ]
    },
    {
      "cell_type": "code",
      "execution_count": null,
      "metadata": {
        "id": "FovELR6ro4qW"
      },
      "outputs": [],
      "source": [
        "conv_base = vgg16.VGG16(include_top=False,input_shape=(32,32,3))"
      ]
    },
    {
      "cell_type": "code",
      "execution_count": null,
      "metadata": {
        "id": "QOlEcNMCo4qY",
        "outputId": "61f7b64d-8fff-4fbd-d8b5-4013c20329f7"
      },
      "outputs": [
        {
          "name": "stdout",
          "output_type": "stream",
          "text": [
            "Model: \"vgg16\"\n",
            "_________________________________________________________________\n",
            "Layer (type)                 Output Shape              Param #   \n",
            "=================================================================\n",
            "input_1 (InputLayer)         [(None, 32, 32, 3)]       0         \n",
            "_________________________________________________________________\n",
            "block1_conv1 (Conv2D)        (None, 32, 32, 64)        1792      \n",
            "_________________________________________________________________\n",
            "block1_conv2 (Conv2D)        (None, 32, 32, 64)        36928     \n",
            "_________________________________________________________________\n",
            "block1_pool (MaxPooling2D)   (None, 16, 16, 64)        0         \n",
            "_________________________________________________________________\n",
            "block2_conv1 (Conv2D)        (None, 16, 16, 128)       73856     \n",
            "_________________________________________________________________\n",
            "block2_conv2 (Conv2D)        (None, 16, 16, 128)       147584    \n",
            "_________________________________________________________________\n",
            "block2_pool (MaxPooling2D)   (None, 8, 8, 128)         0         \n",
            "_________________________________________________________________\n",
            "block3_conv1 (Conv2D)        (None, 8, 8, 256)         295168    \n",
            "_________________________________________________________________\n",
            "block3_conv2 (Conv2D)        (None, 8, 8, 256)         590080    \n",
            "_________________________________________________________________\n",
            "block3_conv3 (Conv2D)        (None, 8, 8, 256)         590080    \n",
            "_________________________________________________________________\n",
            "block3_pool (MaxPooling2D)   (None, 4, 4, 256)         0         \n",
            "_________________________________________________________________\n",
            "block4_conv1 (Conv2D)        (None, 4, 4, 512)         1180160   \n",
            "_________________________________________________________________\n",
            "block4_conv2 (Conv2D)        (None, 4, 4, 512)         2359808   \n",
            "_________________________________________________________________\n",
            "block4_conv3 (Conv2D)        (None, 4, 4, 512)         2359808   \n",
            "_________________________________________________________________\n",
            "block4_pool (MaxPooling2D)   (None, 2, 2, 512)         0         \n",
            "_________________________________________________________________\n",
            "block5_conv1 (Conv2D)        (None, 2, 2, 512)         2359808   \n",
            "_________________________________________________________________\n",
            "block5_conv2 (Conv2D)        (None, 2, 2, 512)         2359808   \n",
            "_________________________________________________________________\n",
            "block5_conv3 (Conv2D)        (None, 2, 2, 512)         2359808   \n",
            "_________________________________________________________________\n",
            "block5_pool (MaxPooling2D)   (None, 1, 1, 512)         0         \n",
            "=================================================================\n",
            "Total params: 14,714,688\n",
            "Trainable params: 14,714,688\n",
            "Non-trainable params: 0\n",
            "_________________________________________________________________\n"
          ]
        }
      ],
      "source": [
        "conv_base.summary()"
      ]
    },
    {
      "cell_type": "code",
      "execution_count": null,
      "metadata": {
        "id": "1SBPDCk2o4qa"
      },
      "outputs": [],
      "source": [
        "conv_base.trainable = False"
      ]
    },
    {
      "cell_type": "code",
      "execution_count": null,
      "metadata": {
        "id": "fClxtALeo4qd",
        "outputId": "069940e6-da53-4376-c8a5-1f05c5b2611f"
      },
      "outputs": [
        {
          "data": {
            "text/plain": [
              "[<keras.layers.pooling.MaxPooling2D at 0x17b914cc430>,\n",
              " <keras.layers.convolutional.Conv2D at 0x17b914c8100>,\n",
              " <keras.layers.convolutional.Conv2D at 0x17b914d0b20>,\n",
              " <keras.layers.convolutional.Conv2D at 0x17b914b15e0>,\n",
              " <keras.layers.pooling.MaxPooling2D at 0x17b914cc880>,\n",
              " <keras.layers.convolutional.Conv2D at 0x17b914c8ee0>,\n",
              " <keras.layers.convolutional.Conv2D at 0x17b914c4bb0>,\n",
              " <keras.layers.convolutional.Conv2D at 0x17b914be670>,\n",
              " <keras.layers.pooling.MaxPooling2D at 0x17b914c1df0>,\n",
              " <keras.layers.convolutional.Conv2D at 0x17b914beaf0>,\n",
              " <keras.layers.convolutional.Conv2D at 0x17b914b6850>,\n",
              " <keras.layers.convolutional.Conv2D at 0x17b914bca90>,\n",
              " <keras.layers.pooling.MaxPooling2D at 0x17b91455250>,\n",
              " <keras.layers.convolutional.Conv2D at 0x17b914b1700>,\n",
              " <keras.layers.convolutional.Conv2D at 0x17b91455f10>,\n",
              " <keras.layers.pooling.MaxPooling2D at 0x17b90df8a30>,\n",
              " <keras.layers.convolutional.Conv2D at 0x17b90df8d00>,\n",
              " <keras.layers.convolutional.Conv2D at 0x17b90df8040>,\n",
              " <keras.engine.input_layer.InputLayer at 0x17b900042b0>]"
            ]
          },
          "execution_count": 10,
          "metadata": {},
          "output_type": "execute_result"
        }
      ],
      "source": [
        "conv_base.layers[::-1]"
      ]
    },
    {
      "cell_type": "code",
      "execution_count": null,
      "metadata": {
        "id": "01s2FJqio4qe"
      },
      "outputs": [],
      "source": [
        "def unfreeze_layer():\n",
        "    trainable = False\n",
        "    \n",
        "    for layer in conv_base.layers:\n",
        "        if layer.name == layer.name:\n",
        "            trainable = True\n",
        "        \n",
        "        if trainable:\n",
        "            layer.trainable=True\n",
        "        else:\n",
        "            layer.trainable=False\n",
        "        \n",
        "    return conv_base\n",
        "    "
      ]
    },
    {
      "cell_type": "code",
      "execution_count": null,
      "metadata": {
        "id": "00wgq7IUo4qg",
        "outputId": "de1ba04e-dc64-4813-ea9f-9cd97fbee56e"
      },
      "outputs": [
        {
          "name": "stdout",
          "output_type": "stream",
          "text": [
            "Model: \"vgg16\"\n",
            "_________________________________________________________________\n",
            "Layer (type)                 Output Shape              Param #   \n",
            "=================================================================\n",
            "input_1 (InputLayer)         [(None, 32, 32, 3)]       0         \n",
            "_________________________________________________________________\n",
            "block1_conv1 (Conv2D)        (None, 32, 32, 64)        1792      \n",
            "_________________________________________________________________\n",
            "block1_conv2 (Conv2D)        (None, 32, 32, 64)        36928     \n",
            "_________________________________________________________________\n",
            "block1_pool (MaxPooling2D)   (None, 16, 16, 64)        0         \n",
            "_________________________________________________________________\n",
            "block2_conv1 (Conv2D)        (None, 16, 16, 128)       73856     \n",
            "_________________________________________________________________\n",
            "block2_conv2 (Conv2D)        (None, 16, 16, 128)       147584    \n",
            "_________________________________________________________________\n",
            "block2_pool (MaxPooling2D)   (None, 8, 8, 128)         0         \n",
            "_________________________________________________________________\n",
            "block3_conv1 (Conv2D)        (None, 8, 8, 256)         295168    \n",
            "_________________________________________________________________\n",
            "block3_conv2 (Conv2D)        (None, 8, 8, 256)         590080    \n",
            "_________________________________________________________________\n",
            "block3_conv3 (Conv2D)        (None, 8, 8, 256)         590080    \n",
            "_________________________________________________________________\n",
            "block3_pool (MaxPooling2D)   (None, 4, 4, 256)         0         \n",
            "_________________________________________________________________\n",
            "block4_conv1 (Conv2D)        (None, 4, 4, 512)         1180160   \n",
            "_________________________________________________________________\n",
            "block4_conv2 (Conv2D)        (None, 4, 4, 512)         2359808   \n",
            "_________________________________________________________________\n",
            "block4_conv3 (Conv2D)        (None, 4, 4, 512)         2359808   \n",
            "_________________________________________________________________\n",
            "block4_pool (MaxPooling2D)   (None, 2, 2, 512)         0         \n",
            "_________________________________________________________________\n",
            "block5_conv1 (Conv2D)        (None, 2, 2, 512)         2359808   \n",
            "_________________________________________________________________\n",
            "block5_conv2 (Conv2D)        (None, 2, 2, 512)         2359808   \n",
            "_________________________________________________________________\n",
            "block5_conv3 (Conv2D)        (None, 2, 2, 512)         2359808   \n",
            "_________________________________________________________________\n",
            "block5_pool (MaxPooling2D)   (None, 1, 1, 512)         0         \n",
            "=================================================================\n",
            "Total params: 14,714,688\n",
            "Trainable params: 0\n",
            "Non-trainable params: 14,714,688\n",
            "_________________________________________________________________\n"
          ]
        }
      ],
      "source": [
        "conv_base.summary()"
      ]
    },
    {
      "cell_type": "code",
      "execution_count": null,
      "metadata": {
        "id": "6alPrDVvo4qi"
      },
      "outputs": [],
      "source": [
        "def build_network():\n",
        "\n",
        "  network = Sequential()\n",
        "  conv_base = unfreeze_layer()\n",
        "  network.add(conv_base)\n",
        "  network.add(Flatten())\n",
        "  network.add(Dense(units=512,activation=\"relu\",kernel_initializer=\"glorot_normal\"))\n",
        "  network.add(BatchNormalization())\n",
        "  network.add(Dense(units=46,activation=\"softmax\",kernel_initializer=\"glorot_normal\"))\n",
        "  \n",
        "  network.compile(optimizer=Adam(),loss=\"categorical_crossentropy\",metrics=[\"accuracy\"])\n",
        "\n",
        "  return network"
      ]
    },
    {
      "cell_type": "code",
      "execution_count": null,
      "metadata": {
        "id": "fl-z7-mTo4qj"
      },
      "outputs": [],
      "source": [
        "network = build_network()"
      ]
    },
    {
      "cell_type": "code",
      "execution_count": null,
      "metadata": {
        "id": "n6zfQfAWo4ql"
      },
      "outputs": [],
      "source": [
        "network.summary()"
      ]
    },
    {
      "cell_type": "code",
      "execution_count": null,
      "metadata": {
        "id": "IVgWLZEQo4ql"
      },
      "outputs": [],
      "source": [
        "network.fit_generator(generator=training_datagen,epochs=2,validation_data=cv_datagen,\n",
        "                      workers=2,use_multiprocessing=True)"
      ]
    }
  ],
  "metadata": {
    "kernelspec": {
      "display_name": "Python 3",
      "language": "python",
      "name": "python3"
    },
    "language_info": {
      "codemirror_mode": {
        "name": "ipython",
        "version": 3
      },
      "file_extension": ".py",
      "mimetype": "text/x-python",
      "name": "python",
      "nbconvert_exporter": "python",
      "pygments_lexer": "ipython3",
      "version": "3.8.5"
    },
    "colab": {
      "name": "End to end Transfer Learning keras.ipynb",
      "provenance": [],
      "include_colab_link": true
    }
  },
  "nbformat": 4,
  "nbformat_minor": 0
}