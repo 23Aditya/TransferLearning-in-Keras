{
  "cells": [
    {
      "cell_type": "markdown",
      "metadata": {
        "id": "view-in-github",
        "colab_type": "text"
      },
      "source": [
        "<a href=\"https://colab.research.google.com/github/23Aditya/TransferLearning-in-Keras/blob/main/offline_transfer_learning.ipynb\" target=\"_parent\"><img src=\"https://colab.research.google.com/assets/colab-badge.svg\" alt=\"Open In Colab\"/></a>"
      ]
    },
    {
      "cell_type": "code",
      "execution_count": null,
      "metadata": {
        "id": "fd9JBX9gRtHg"
      },
      "outputs": [],
      "source": [
        "from keras.applications import vgg16\n",
        "from tensorflow.keras.optimizers import Adam\n",
        "from keras.models import Sequential\n",
        "from keras.layers import Dense,Flatten,BatchNormalization,InputLayer\n",
        "from keras.preprocessing.image import ImageDataGenerator\n",
        "import os\n",
        "import numpy as np"
      ]
    },
    {
      "cell_type": "code",
      "execution_count": null,
      "metadata": {
        "id": "Hw7ptEykV06V"
      },
      "outputs": [],
      "source": [
        "data_gen = ImageDataGenerator()"
      ]
    },
    {
      "cell_type": "code",
      "execution_count": null,
      "metadata": {
        "colab": {
          "background_save": true
        },
        "id": "gyZYiMwmWUIT",
        "outputId": "b59986e5-f296-4a82-812b-b9bfe2027324"
      },
      "outputs": [
        {
          "name": "stdout",
          "output_type": "stream",
          "text": [
            "Found 39440 images belonging to 29 classes.\n"
          ]
        }
      ],
      "source": [
        "training_datagen = data_gen.flow_from_directory(directory=\"/content/drive/MyDrive/DevanagariHandwrittenCharacterDataset/Train\",\n",
        "                                                     target_size=(32,32),color_mode=\"rgb\",\n",
        "                                                     classes=os.listdir(\"/content/drive/MyDrive/DevanagariHandwrittenCharacterDataset/Train\"),\n",
        "                                                     batch_size=50)"
      ]
    },
    {
      "cell_type": "code",
      "execution_count": null,
      "metadata": {
        "colab": {
          "background_save": true
        },
        "id": "ezF6ZAlJWiRi",
        "outputId": "5935d979-18a7-45d2-d115-8a9b4d560945"
      },
      "outputs": [
        {
          "name": "stdout",
          "output_type": "stream",
          "text": [
            "Found 0 images belonging to 46 classes.\n"
          ]
        }
      ],
      "source": [
        "cv_datagen = data_gen.flow_from_directory(directory=\"/content/drive/MyDrive/DevanagariHandwrittenCharacterDataset/cv\",\n",
        "                                                    target_size=(32,32),color_mode=\"rgb\",\n",
        "                                                    classes=os.listdir(\"/content/drive/MyDrive/DevanagariHandwrittenCharacterDataset/cv\"),\n",
        "                                                    batch_size=15640)"
      ]
    },
    {
      "cell_type": "code",
      "execution_count": null,
      "metadata": {
        "colab": {
          "background_save": true
        },
        "id": "HqGLGD81W3HM",
        "outputId": "f3fc270e-26e9-436d-db78-9a3133d45b5e"
      },
      "outputs": [
        {
          "name": "stdout",
          "output_type": "stream",
          "text": [
            "Found 13800 images belonging to 46 classes.\n"
          ]
        }
      ],
      "source": [
        "testing_datagen = data_gen.flow_from_directory(directory=\"/content/drive/MyDrive/DevanagariHandwrittenCharacterDataset/Test\",\n",
        "                                                   target_size=(32,32),color_mode=\"rgb\",\n",
        "                                                   classes=os.listdir(\"/content/drive/MyDrive/DevanagariHandwrittenCharacterDataset/Test\"),\n",
        "                                                   batch_size=13800)"
      ]
    },
    {
      "cell_type": "code",
      "execution_count": null,
      "metadata": {
        "colab": {
          "background_save": true
        },
        "id": "YsvNeXvXW9nm",
        "outputId": "322a770b-7214-4870-f9ee-d833739618d8"
      },
      "outputs": [
        {
          "name": "stdout",
          "output_type": "stream",
          "text": [
            "Downloading data from https://storage.googleapis.com/tensorflow/keras-applications/vgg16/vgg16_weights_tf_dim_ordering_tf_kernels_notop.h5\n",
            "58892288/58889256 [==============================] - 0s 0us/step\n",
            "58900480/58889256 [==============================] - 0s 0us/step\n"
          ]
        }
      ],
      "source": [
        "conv_base = vgg16.VGG16(include_top=False,input_shape=(32,32,3))"
      ]
    },
    {
      "cell_type": "code",
      "execution_count": null,
      "metadata": {
        "colab": {
          "background_save": true
        },
        "id": "oK35J5pkX8wu"
      },
      "outputs": [],
      "source": [
        "conv_base.trainable = False"
      ]
    },
    {
      "cell_type": "code",
      "execution_count": null,
      "metadata": {
        "colab": {
          "background_save": true
        },
        "id": "wX3bUAmrX-iw"
      },
      "outputs": [],
      "source": [
        "base_dir = \"/content/drive/MyDrive/DevanagariHandwrittenCharacterDataset\""
      ]
    },
    {
      "cell_type": "code",
      "execution_count": null,
      "metadata": {
        "colab": {
          "background_save": true
        },
        "id": "lcNC9O-6Yloy"
      },
      "outputs": [],
      "source": [
        "training_dir = os.path.join(base_dir,\"Train\")\n",
        "cv_dir = os.path.join(base_dir,\"cv\")\n",
        "testing_dir = os.path.join(base_dir,\"Test\")"
      ]
    },
    {
      "cell_type": "code",
      "execution_count": null,
      "metadata": {
        "colab": {
          "background_save": true
        },
        "id": "VcDgtRlKYhYt",
        "outputId": "2e14e072-254b-4030-d5ec-a403cd3e4956"
      },
      "outputs": [
        {
          "name": "stdout",
          "output_type": "stream",
          "text": [
            "Model: \"vgg16\"\n",
            "_________________________________________________________________\n",
            " Layer (type)                Output Shape              Param #   \n",
            "=================================================================\n",
            " input_1 (InputLayer)        [(None, 32, 32, 3)]       0         \n",
            "                                                                 \n",
            " block1_conv1 (Conv2D)       (None, 32, 32, 64)        1792      \n",
            "                                                                 \n",
            " block1_conv2 (Conv2D)       (None, 32, 32, 64)        36928     \n",
            "                                                                 \n",
            " block1_pool (MaxPooling2D)  (None, 16, 16, 64)        0         \n",
            "                                                                 \n",
            " block2_conv1 (Conv2D)       (None, 16, 16, 128)       73856     \n",
            "                                                                 \n",
            " block2_conv2 (Conv2D)       (None, 16, 16, 128)       147584    \n",
            "                                                                 \n",
            " block2_pool (MaxPooling2D)  (None, 8, 8, 128)         0         \n",
            "                                                                 \n",
            " block3_conv1 (Conv2D)       (None, 8, 8, 256)         295168    \n",
            "                                                                 \n",
            " block3_conv2 (Conv2D)       (None, 8, 8, 256)         590080    \n",
            "                                                                 \n",
            " block3_conv3 (Conv2D)       (None, 8, 8, 256)         590080    \n",
            "                                                                 \n",
            " block3_pool (MaxPooling2D)  (None, 4, 4, 256)         0         \n",
            "                                                                 \n",
            " block4_conv1 (Conv2D)       (None, 4, 4, 512)         1180160   \n",
            "                                                                 \n",
            " block4_conv2 (Conv2D)       (None, 4, 4, 512)         2359808   \n",
            "                                                                 \n",
            " block4_conv3 (Conv2D)       (None, 4, 4, 512)         2359808   \n",
            "                                                                 \n",
            " block4_pool (MaxPooling2D)  (None, 2, 2, 512)         0         \n",
            "                                                                 \n",
            " block5_conv1 (Conv2D)       (None, 2, 2, 512)         2359808   \n",
            "                                                                 \n",
            " block5_conv2 (Conv2D)       (None, 2, 2, 512)         2359808   \n",
            "                                                                 \n",
            " block5_conv3 (Conv2D)       (None, 2, 2, 512)         2359808   \n",
            "                                                                 \n",
            " block5_pool (MaxPooling2D)  (None, 1, 1, 512)         0         \n",
            "                                                                 \n",
            "=================================================================\n",
            "Total params: 14,714,688\n",
            "Trainable params: 0\n",
            "Non-trainable params: 14,714,688\n",
            "_________________________________________________________________\n"
          ]
        }
      ],
      "source": [
        "conv_base.summary()"
      ]
    },
    {
      "cell_type": "code",
      "execution_count": null,
      "metadata": {
        "colab": {
          "background_save": true
        },
        "id": "mjejmxSDZShd"
      },
      "outputs": [],
      "source": [
        "def fetch_conv_base_output(train_cv_test_dir,train_cv_test_size):\n",
        "  conv_base_output = np.zeros(shape=(train_cv_test_size,1,1,512))\n",
        "  train_cv_test_labels = np.zeros(shape=(train_cv_test_size,46))\n",
        "\n",
        "  train_cv_test_datagen = data_gen.flow_from_directory(directory=train_cv_test_dir,\n",
        "                                                       target_size=(32,32),color_mode=\"rgb\",\n",
        "                                                       classes=os.listdir(train_cv_test_dir),batch_size=40)\n",
        "  i=0\n",
        "  batch_size = 40\n",
        "\n",
        "  for input_image_batch,labels_batch in train_cv_test_datagen:\n",
        "\n",
        "    conv_base_output_batch = conv_base.predict(input_image_batch)\n",
        "    conv_base_output[i*batch_size:(i+1)*batch_size] = conv_base_output_batch\n",
        "    train_cv_test_labels[i*batch_size:(i+1)*batch_size] = labels_batch\n",
        "    i = i + 1\n",
        "\n",
        "    print(\"Processed Batch Number\",1)\n",
        "\n",
        "    if i*batch_size >  train_cv_test_size:\n",
        "      break\n",
        "\n",
        "  return conv_base_output,train_cv_test_labels\n",
        "\n"
      ]
    },
    {
      "cell_type": "code",
      "execution_count": null,
      "metadata": {
        "colab": {
          "base_uri": "https://localhost:8080/",
          "height": 1000
        },
        "id": "ohuTcZF-iB0m",
        "outputId": "a0f96c6a-255d-4496-fcb7-64c20dcd57c1"
      },
      "outputs": [
        {
          "output_type": "stream",
          "name": "stdout",
          "text": [
            "Found 13800 images belonging to 46 classes.\n",
            "Processed Batch Number 1\n",
            "Processed Batch Number 1\n",
            "Processed Batch Number 1\n",
            "Processed Batch Number 1\n",
            "Processed Batch Number 1\n",
            "Processed Batch Number 1\n",
            "Processed Batch Number 1\n",
            "Processed Batch Number 1\n",
            "Processed Batch Number 1\n",
            "Processed Batch Number 1\n",
            "Processed Batch Number 1\n",
            "Processed Batch Number 1\n",
            "Processed Batch Number 1\n",
            "Processed Batch Number 1\n",
            "Processed Batch Number 1\n",
            "Processed Batch Number 1\n",
            "Processed Batch Number 1\n",
            "Processed Batch Number 1\n",
            "Processed Batch Number 1\n",
            "Processed Batch Number 1\n",
            "Processed Batch Number 1\n",
            "Processed Batch Number 1\n",
            "Processed Batch Number 1\n",
            "Processed Batch Number 1\n",
            "Processed Batch Number 1\n",
            "Processed Batch Number 1\n",
            "Processed Batch Number 1\n",
            "Processed Batch Number 1\n",
            "Processed Batch Number 1\n",
            "Processed Batch Number 1\n",
            "Processed Batch Number 1\n",
            "Processed Batch Number 1\n",
            "Processed Batch Number 1\n",
            "Processed Batch Number 1\n",
            "Processed Batch Number 1\n",
            "Processed Batch Number 1\n",
            "Processed Batch Number 1\n",
            "Processed Batch Number 1\n",
            "Processed Batch Number 1\n",
            "Processed Batch Number 1\n",
            "Processed Batch Number 1\n",
            "Processed Batch Number 1\n",
            "Processed Batch Number 1\n",
            "Processed Batch Number 1\n",
            "Processed Batch Number 1\n",
            "Processed Batch Number 1\n",
            "Processed Batch Number 1\n",
            "Processed Batch Number 1\n",
            "Processed Batch Number 1\n",
            "Processed Batch Number 1\n",
            "Processed Batch Number 1\n",
            "Processed Batch Number 1\n",
            "Processed Batch Number 1\n",
            "Processed Batch Number 1\n",
            "Processed Batch Number 1\n",
            "Processed Batch Number 1\n",
            "Processed Batch Number 1\n",
            "Processed Batch Number 1\n",
            "Processed Batch Number 1\n",
            "Processed Batch Number 1\n",
            "Processed Batch Number 1\n",
            "Processed Batch Number 1\n",
            "Processed Batch Number 1\n",
            "Processed Batch Number 1\n",
            "Processed Batch Number 1\n",
            "Processed Batch Number 1\n",
            "Processed Batch Number 1\n",
            "Processed Batch Number 1\n",
            "Processed Batch Number 1\n",
            "Processed Batch Number 1\n",
            "Processed Batch Number 1\n",
            "Processed Batch Number 1\n",
            "Processed Batch Number 1\n",
            "Processed Batch Number 1\n",
            "Processed Batch Number 1\n",
            "Processed Batch Number 1\n",
            "Processed Batch Number 1\n",
            "Processed Batch Number 1\n",
            "Processed Batch Number 1\n",
            "Processed Batch Number 1\n",
            "Processed Batch Number 1\n",
            "Processed Batch Number 1\n",
            "Processed Batch Number 1\n",
            "Processed Batch Number 1\n",
            "Processed Batch Number 1\n",
            "Processed Batch Number 1\n",
            "Processed Batch Number 1\n",
            "Processed Batch Number 1\n",
            "Processed Batch Number 1\n",
            "Processed Batch Number 1\n",
            "Processed Batch Number 1\n",
            "Processed Batch Number 1\n",
            "Processed Batch Number 1\n",
            "Processed Batch Number 1\n",
            "Processed Batch Number 1\n",
            "Processed Batch Number 1\n",
            "Processed Batch Number 1\n",
            "Processed Batch Number 1\n",
            "Processed Batch Number 1\n",
            "Processed Batch Number 1\n",
            "Processed Batch Number 1\n",
            "Processed Batch Number 1\n",
            "Processed Batch Number 1\n",
            "Processed Batch Number 1\n",
            "Processed Batch Number 1\n",
            "Processed Batch Number 1\n",
            "Processed Batch Number 1\n",
            "Processed Batch Number 1\n",
            "Processed Batch Number 1\n",
            "Processed Batch Number 1\n",
            "Processed Batch Number 1\n",
            "Processed Batch Number 1\n",
            "Processed Batch Number 1\n",
            "Processed Batch Number 1\n",
            "Processed Batch Number 1\n",
            "Processed Batch Number 1\n",
            "Processed Batch Number 1\n",
            "Processed Batch Number 1\n",
            "Processed Batch Number 1\n",
            "Processed Batch Number 1\n",
            "Processed Batch Number 1\n",
            "Processed Batch Number 1\n",
            "Processed Batch Number 1\n",
            "Processed Batch Number 1\n",
            "Processed Batch Number 1\n",
            "Processed Batch Number 1\n",
            "Processed Batch Number 1\n",
            "Processed Batch Number 1\n",
            "Processed Batch Number 1\n",
            "Processed Batch Number 1\n",
            "Processed Batch Number 1\n",
            "Processed Batch Number 1\n",
            "Processed Batch Number 1\n",
            "Processed Batch Number 1\n",
            "Processed Batch Number 1\n",
            "Processed Batch Number 1\n",
            "Processed Batch Number 1\n",
            "Processed Batch Number 1\n",
            "Processed Batch Number 1\n",
            "Processed Batch Number 1\n",
            "Processed Batch Number 1\n",
            "Processed Batch Number 1\n",
            "Processed Batch Number 1\n",
            "Processed Batch Number 1\n",
            "Processed Batch Number 1\n",
            "Processed Batch Number 1\n",
            "Processed Batch Number 1\n",
            "Processed Batch Number 1\n",
            "Processed Batch Number 1\n",
            "Processed Batch Number 1\n",
            "Processed Batch Number 1\n",
            "Processed Batch Number 1\n",
            "Processed Batch Number 1\n",
            "Processed Batch Number 1\n",
            "Processed Batch Number 1\n",
            "Processed Batch Number 1\n",
            "Processed Batch Number 1\n",
            "Processed Batch Number 1\n",
            "Processed Batch Number 1\n",
            "Processed Batch Number 1\n",
            "Processed Batch Number 1\n",
            "Processed Batch Number 1\n",
            "Processed Batch Number 1\n",
            "Processed Batch Number 1\n",
            "Processed Batch Number 1\n",
            "Processed Batch Number 1\n",
            "Processed Batch Number 1\n",
            "Processed Batch Number 1\n",
            "Processed Batch Number 1\n",
            "Processed Batch Number 1\n",
            "Processed Batch Number 1\n",
            "Processed Batch Number 1\n",
            "Processed Batch Number 1\n",
            "Processed Batch Number 1\n",
            "Processed Batch Number 1\n",
            "Processed Batch Number 1\n",
            "Processed Batch Number 1\n",
            "Processed Batch Number 1\n",
            "Processed Batch Number 1\n",
            "Processed Batch Number 1\n",
            "Processed Batch Number 1\n",
            "Processed Batch Number 1\n",
            "Processed Batch Number 1\n",
            "Processed Batch Number 1\n",
            "Processed Batch Number 1\n",
            "Processed Batch Number 1\n",
            "Processed Batch Number 1\n",
            "Processed Batch Number 1\n",
            "Processed Batch Number 1\n",
            "Processed Batch Number 1\n",
            "Processed Batch Number 1\n",
            "Processed Batch Number 1\n",
            "Processed Batch Number 1\n",
            "Processed Batch Number 1\n",
            "Processed Batch Number 1\n",
            "Processed Batch Number 1\n",
            "Processed Batch Number 1\n",
            "Processed Batch Number 1\n",
            "Processed Batch Number 1\n",
            "Processed Batch Number 1\n",
            "Processed Batch Number 1\n",
            "Processed Batch Number 1\n",
            "Processed Batch Number 1\n",
            "Processed Batch Number 1\n",
            "Processed Batch Number 1\n",
            "Processed Batch Number 1\n",
            "Processed Batch Number 1\n",
            "Processed Batch Number 1\n",
            "Processed Batch Number 1\n",
            "Processed Batch Number 1\n",
            "Processed Batch Number 1\n",
            "Processed Batch Number 1\n",
            "Processed Batch Number 1\n",
            "Processed Batch Number 1\n",
            "Processed Batch Number 1\n",
            "Processed Batch Number 1\n",
            "Processed Batch Number 1\n",
            "Processed Batch Number 1\n",
            "Processed Batch Number 1\n",
            "Processed Batch Number 1\n",
            "Processed Batch Number 1\n",
            "Processed Batch Number 1\n",
            "Processed Batch Number 1\n",
            "Processed Batch Number 1\n",
            "Processed Batch Number 1\n",
            "Processed Batch Number 1\n",
            "Processed Batch Number 1\n",
            "Processed Batch Number 1\n",
            "Processed Batch Number 1\n",
            "Processed Batch Number 1\n",
            "Processed Batch Number 1\n",
            "Processed Batch Number 1\n",
            "Processed Batch Number 1\n",
            "Processed Batch Number 1\n",
            "Processed Batch Number 1\n",
            "Processed Batch Number 1\n",
            "Processed Batch Number 1\n",
            "Processed Batch Number 1\n",
            "Processed Batch Number 1\n",
            "Processed Batch Number 1\n",
            "Processed Batch Number 1\n",
            "Processed Batch Number 1\n",
            "Processed Batch Number 1\n",
            "Processed Batch Number 1\n",
            "Processed Batch Number 1\n",
            "Processed Batch Number 1\n",
            "Processed Batch Number 1\n",
            "Processed Batch Number 1\n",
            "Processed Batch Number 1\n",
            "Processed Batch Number 1\n",
            "Processed Batch Number 1\n",
            "Processed Batch Number 1\n",
            "Processed Batch Number 1\n",
            "Processed Batch Number 1\n",
            "Processed Batch Number 1\n",
            "Processed Batch Number 1\n",
            "Processed Batch Number 1\n",
            "Processed Batch Number 1\n",
            "Processed Batch Number 1\n",
            "Processed Batch Number 1\n",
            "Processed Batch Number 1\n",
            "Processed Batch Number 1\n",
            "Processed Batch Number 1\n",
            "Processed Batch Number 1\n",
            "Processed Batch Number 1\n",
            "Processed Batch Number 1\n",
            "Processed Batch Number 1\n",
            "Processed Batch Number 1\n",
            "Processed Batch Number 1\n",
            "Processed Batch Number 1\n",
            "Processed Batch Number 1\n",
            "Processed Batch Number 1\n",
            "Processed Batch Number 1\n",
            "Processed Batch Number 1\n",
            "Processed Batch Number 1\n",
            "Processed Batch Number 1\n",
            "Processed Batch Number 1\n",
            "Processed Batch Number 1\n",
            "Processed Batch Number 1\n",
            "Processed Batch Number 1\n",
            "Processed Batch Number 1\n",
            "Processed Batch Number 1\n",
            "Processed Batch Number 1\n",
            "Processed Batch Number 1\n",
            "Processed Batch Number 1\n",
            "Processed Batch Number 1\n",
            "Processed Batch Number 1\n",
            "Processed Batch Number 1\n",
            "Processed Batch Number 1\n",
            "Processed Batch Number 1\n",
            "Processed Batch Number 1\n",
            "Processed Batch Number 1\n",
            "Processed Batch Number 1\n",
            "Processed Batch Number 1\n",
            "Processed Batch Number 1\n",
            "Processed Batch Number 1\n",
            "Processed Batch Number 1\n",
            "Processed Batch Number 1\n",
            "Processed Batch Number 1\n",
            "Processed Batch Number 1\n",
            "Processed Batch Number 1\n",
            "Processed Batch Number 1\n",
            "Processed Batch Number 1\n",
            "Processed Batch Number 1\n",
            "Processed Batch Number 1\n",
            "Processed Batch Number 1\n",
            "Processed Batch Number 1\n",
            "Processed Batch Number 1\n",
            "Processed Batch Number 1\n",
            "Processed Batch Number 1\n",
            "Processed Batch Number 1\n",
            "Processed Batch Number 1\n",
            "Processed Batch Number 1\n",
            "Processed Batch Number 1\n",
            "Processed Batch Number 1\n",
            "Processed Batch Number 1\n",
            "Processed Batch Number 1\n",
            "Processed Batch Number 1\n",
            "Processed Batch Number 1\n",
            "Processed Batch Number 1\n",
            "Processed Batch Number 1\n",
            "Processed Batch Number 1\n",
            "Processed Batch Number 1\n",
            "Processed Batch Number 1\n",
            "Processed Batch Number 1\n",
            "Processed Batch Number 1\n",
            "Processed Batch Number 1\n",
            "Processed Batch Number 1\n",
            "Processed Batch Number 1\n",
            "Processed Batch Number 1\n",
            "Processed Batch Number 1\n",
            "Processed Batch Number 1\n",
            "Processed Batch Number 1\n",
            "Processed Batch Number 1\n",
            "Processed Batch Number 1\n",
            "Processed Batch Number 1\n",
            "Processed Batch Number 1\n",
            "Processed Batch Number 1\n",
            "Processed Batch Number 1\n",
            "Processed Batch Number 1\n",
            "Processed Batch Number 1\n",
            "Processed Batch Number 1\n",
            "Processed Batch Number 1\n",
            "Processed Batch Number 1\n",
            "Processed Batch Number 1\n"
          ]
        },
        {
          "output_type": "error",
          "ename": "ValueError",
          "evalue": "ignored",
          "traceback": [
            "\u001b[0;31m---------------------------------------------------------------------------\u001b[0m",
            "\u001b[0;31mValueError\u001b[0m                                Traceback (most recent call last)",
            "\u001b[0;32m<ipython-input-12-65320bfa9cf6>\u001b[0m in \u001b[0;36m<module>\u001b[0;34m()\u001b[0m\n\u001b[0;32m----> 1\u001b[0;31m \u001b[0mconv_base_test_output\u001b[0m \u001b[0;34m=\u001b[0m \u001b[0mfetch_conv_base_output\u001b[0m\u001b[0;34m(\u001b[0m\u001b[0mtesting_dir\u001b[0m\u001b[0;34m,\u001b[0m\u001b[0;36m13800\u001b[0m\u001b[0;34m)\u001b[0m\u001b[0;34m\u001b[0m\u001b[0;34m\u001b[0m\u001b[0m\n\u001b[0m",
            "\u001b[0;32m<ipython-input-11-fd300a5c6725>\u001b[0m in \u001b[0;36mfetch_conv_base_output\u001b[0;34m(train_cv_test_dir, train_cv_test_size)\u001b[0m\n\u001b[1;32m     12\u001b[0m \u001b[0;34m\u001b[0m\u001b[0m\n\u001b[1;32m     13\u001b[0m     \u001b[0mconv_base_output_batch\u001b[0m \u001b[0;34m=\u001b[0m \u001b[0mconv_base\u001b[0m\u001b[0;34m.\u001b[0m\u001b[0mpredict\u001b[0m\u001b[0;34m(\u001b[0m\u001b[0minput_image_batch\u001b[0m\u001b[0;34m)\u001b[0m\u001b[0;34m\u001b[0m\u001b[0;34m\u001b[0m\u001b[0m\n\u001b[0;32m---> 14\u001b[0;31m     \u001b[0mconv_base_output\u001b[0m\u001b[0;34m[\u001b[0m\u001b[0mi\u001b[0m\u001b[0;34m*\u001b[0m\u001b[0mbatch_size\u001b[0m\u001b[0;34m:\u001b[0m\u001b[0;34m(\u001b[0m\u001b[0mi\u001b[0m\u001b[0;34m+\u001b[0m\u001b[0;36m1\u001b[0m\u001b[0;34m)\u001b[0m\u001b[0;34m*\u001b[0m\u001b[0mbatch_size\u001b[0m\u001b[0;34m]\u001b[0m \u001b[0;34m=\u001b[0m \u001b[0mconv_base_output_batch\u001b[0m\u001b[0;34m\u001b[0m\u001b[0;34m\u001b[0m\u001b[0m\n\u001b[0m\u001b[1;32m     15\u001b[0m     \u001b[0mtrain_cv_test_labels\u001b[0m\u001b[0;34m[\u001b[0m\u001b[0mi\u001b[0m\u001b[0;34m*\u001b[0m\u001b[0mbatch_size\u001b[0m\u001b[0;34m:\u001b[0m\u001b[0;34m(\u001b[0m\u001b[0mi\u001b[0m\u001b[0;34m+\u001b[0m\u001b[0;36m1\u001b[0m\u001b[0;34m)\u001b[0m\u001b[0;34m*\u001b[0m\u001b[0mbatch_size\u001b[0m\u001b[0;34m]\u001b[0m \u001b[0;34m=\u001b[0m \u001b[0mlabels_batch\u001b[0m\u001b[0;34m\u001b[0m\u001b[0;34m\u001b[0m\u001b[0m\n\u001b[1;32m     16\u001b[0m     \u001b[0mi\u001b[0m \u001b[0;34m=\u001b[0m \u001b[0mi\u001b[0m \u001b[0;34m+\u001b[0m \u001b[0;36m1\u001b[0m\u001b[0;34m\u001b[0m\u001b[0;34m\u001b[0m\u001b[0m\n",
            "\u001b[0;31mValueError\u001b[0m: could not broadcast input array from shape (40,1,1,512) into shape (0,1,1,512)"
          ]
        }
      ],
      "source": [
        "conv_base_test_output = fetch_conv_base_output(testing_dir,13800)"
      ]
    },
    {
      "cell_type": "code",
      "execution_count": null,
      "metadata": {
        "id": "tIgRKsAIkvOP"
      },
      "outputs": [],
      "source": [
        "def build_network():\n",
        "\n",
        "  network = Sequential()\n",
        "  network.add(InputLayer(input_shape=(1,1,512)))\n",
        "  network.add(Dense(units=512,activation=\"relu\"))\n",
        "  network.add(Dense(units=46,activation=\"softmax\"))\n",
        "\n",
        "  network.compile(optimizer=Adam(),loss=\"categorical_crossentropy\",metrics=[\"accuracy\"])\n",
        "\n",
        "  return network"
      ]
    },
    {
      "cell_type": "code",
      "execution_count": null,
      "metadata": {
        "colab": {
          "base_uri": "https://localhost:8080/",
          "height": 183
        },
        "id": "HurzDrU9pnCF",
        "outputId": "ed4719e4-d3a8-445f-feb8-260ba3806d66"
      },
      "outputs": [
        {
          "output_type": "error",
          "ename": "NameError",
          "evalue": "ignored",
          "traceback": [
            "\u001b[0;31m---------------------------------------------------------------------------\u001b[0m",
            "\u001b[0;31mNameError\u001b[0m                                 Traceback (most recent call last)",
            "\u001b[0;32m<ipython-input-2-0c994d924fcb>\u001b[0m in \u001b[0;36m<module>\u001b[0;34m()\u001b[0m\n\u001b[0;32m----> 1\u001b[0;31m \u001b[0mconv_base_test_output_imgs\u001b[0m \u001b[0;34m=\u001b[0m \u001b[0mconv_base_test_output\u001b[0m\u001b[0;34m\u001b[0m\u001b[0;34m\u001b[0m\u001b[0m\n\u001b[0m\u001b[1;32m      2\u001b[0m \u001b[0mtest_labels\u001b[0m \u001b[0;34m=\u001b[0m \u001b[0mconv_base_test_output\u001b[0m\u001b[0;34m[\u001b[0m\u001b[0;36m1\u001b[0m\u001b[0;34m]\u001b[0m\u001b[0;34m\u001b[0m\u001b[0;34m\u001b[0m\u001b[0m\n",
            "\u001b[0;31mNameError\u001b[0m: name 'conv_base_test_output' is not defined"
          ]
        }
      ],
      "source": [
        "conv_base_test_output_imgs = conv_base_test_output\n",
        "test_labels = conv_base_test_output[1]"
      ]
    },
    {
      "cell_type": "code",
      "execution_count": null,
      "metadata": {
        "id": "MV7r2uOiy1xB"
      },
      "outputs": [],
      "source": [
        "images_tensor_file_handle = open(\"/content/drive/MyDrive/Colab Notebooks/conv_base_output_imgs.npz\",mode=\"w\")\n",
        "\n",
        "labels_file_handle = open(\"/content/drive/MyDrive/Colab Notebooks/test_labels.npz\",mode=\"w\")\n"
      ]
    },
    {
      "cell_type": "code",
      "execution_count": null,
      "metadata": {
        "id": "z5obwhzf1oF8"
      },
      "outputs": [],
      "source": [
        "np.savez(\"/content/drive/MyDrive/Colab Notebooks/conv_base_output_imgs.npz\",conv_base_output_imgs)\n",
        "np.savez(\"/content/drive/MyDrive/Colab Notebooks/test_labels.npz\",test_labels)"
      ]
    },
    {
      "cell_type": "code",
      "execution_count": null,
      "metadata": {
        "id": "u8veXQQGrNl8"
      },
      "outputs": [],
      "source": [
        "test_datagen = datagen.flow(x=conv_base_test_output_imgs,y=test_labels,batch_size=40)"
      ]
    },
    {
      "cell_type": "code",
      "execution_count": null,
      "metadata": {
        "id": "_IDHFNfws9b_"
      },
      "outputs": [],
      "source": [
        "network = build_network()"
      ]
    },
    {
      "cell_type": "code",
      "execution_count": null,
      "metadata": {
        "id": "Ygcc_PNMtZrs"
      },
      "outputs": [],
      "source": [
        "network.summary()"
      ]
    },
    {
      "cell_type": "code",
      "execution_count": null,
      "metadata": {
        "id": "tRpd2gxettPD"
      },
      "outputs": [],
      "source": [
        "network.fit_generator(generator=test_datagen,epochs=1,workers=2,use_multiprocessing=True)"
      ]
    }
  ],
  "metadata": {
    "accelerator": "TPU",
    "colab": {
      "name": "offline transfer learning.ipynb",
      "provenance": [],
      "mount_file_id": "1BgfHr9J6Zh3gX8GKTk-lWpjnqqIhrEFG",
      "authorship_tag": "ABX9TyNQfrR5X//ngqbjhv7FNqRe",
      "include_colab_link": true
    },
    "kernelspec": {
      "display_name": "Python 3",
      "name": "python3"
    },
    "language_info": {
      "name": "python"
    }
  },
  "nbformat": 4,
  "nbformat_minor": 0
}